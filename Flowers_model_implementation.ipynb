{
 "cells": [
  {
   "cell_type": "markdown",
   "metadata": {},
   "source": [
    "# Flowers - categorization by species \n",
    "\n",
    "In this notebook we will discuss the use of several approaches to models learning to recognize the genre of a flower in the picture.\n",
    "First, I bulit a simple CNN known as LeNet with only two convolution layers. This will allow me to check if my model is learning at all and what is its weakest performance.\n",
    "My biggest problem will be too small amount of data, which can cause model overtraining. Because of that I will make \"offline\" augumentation, technique that allows me to enlarge my data set without adding any extra images. Some of images also can contain valuable information on the edges, so adding \"padding\", empty frame around the picture will be halpfull."
   ]
  },
  {
   "cell_type": "code",
   "execution_count": 2,
   "metadata": {},
   "outputs": [
    {
     "name": "stderr",
     "output_type": "stream",
     "text": [
      "Using TensorFlow backend.\n"
     ]
    }
   ],
   "source": [
    "import pandas as pd\n",
    "import os\n",
    "import numpy as np\n",
    "import shutil\n",
    "import matplotlib.pyplot as plt\n",
    "import talos as ta\n",
    "\n",
    "from sklearn.metrics import classification_report, confusion_matrix\n",
    "\n",
    "from keras.callbacks import EarlyStopping, ModelCheckpoint\n",
    "from keras.layers import Dense, Conv2D, MaxPooling2D, Flatten, AveragePooling2D, Dropout\n",
    "from keras.preprocessing.image import ImageDataGenerator\n",
    "from keras.models import Sequential\n",
    "from keras.regularizers import l2, l1\n",
    "\n",
    "from keras.applications import inception_v3\n",
    "from keras.preprocessing import image\n",
    "from keras.applications.inception_v3 import InceptionV3, preprocess_input, decode_predictions"
   ]
  },
  {
   "cell_type": "code",
   "execution_count": 3,
   "metadata": {},
   "outputs": [],
   "source": [
    "train_data_dir = '../data sets/Flower_by_color_categorization/train'\n",
    "validation_data_dir = '../data sets/Flower_by_color_categorization/validation'\n",
    "\n",
    "batch_size = 16\n",
    "img_height, img_width = 96, 96"
   ]
  },
  {
   "cell_type": "markdown",
   "metadata": {},
   "source": [
    "First I will learn basic CNN with LeNet architecture and no data augumentation."
   ]
  },
  {
   "cell_type": "code",
   "execution_count": 4,
   "metadata": {},
   "outputs": [
    {
     "name": "stdout",
     "output_type": "stream",
     "text": [
      "Found 180 images belonging to 10 classes.\n",
      "Found 30 images belonging to 10 classes.\n"
     ]
    }
   ],
   "source": [
    "train_generator = ImageDataGenerator(rescale=1/255)\n",
    "\n",
    "validation_generator = ImageDataGenerator(rescale=1/255)\n",
    "\n",
    "# Retrieve images and their classes for train and validation sets\n",
    "train_flow = train_generator.flow_from_directory(directory=train_data_dir, \n",
    "                                                 batch_size=batch_size, \n",
    "                                                 target_size=(img_height,img_width))\n",
    "\n",
    "validation_flow = validation_generator.flow_from_directory(directory=validation_data_dir, \n",
    "                                                           batch_size=batch_size,\n",
    "                                                           target_size=(img_height,img_width),\n",
    "                                                            shuffle = False)"
   ]
  },
  {
   "cell_type": "code",
   "execution_count": 3,
   "metadata": {},
   "outputs": [],
   "source": [
    "nb_train_samples = 180\n",
    "nb_validation_samples = 30\n",
    "n_classes =  10\n",
    "epochs = 100"
   ]
  },
  {
   "cell_type": "markdown",
   "metadata": {},
   "source": [
    "### LeNet - basic CNN\n",
    "\n",
    "LeNet-5, a pioneering 7-level convolutional network by LeCun (1998), that classifies digits, was applied by several banks to recognise hand-written numbers on checks (cheques) digitized in 32x32 pixel greyscale inputimages."
   ]
  },
  {
   "cell_type": "code",
   "execution_count": 10,
   "metadata": {},
   "outputs": [
    {
     "data": {
      "text/html": [
       "<img src=\"https://adeshpande3.github.io/assets/LeNet.png\", width=1000>\n"
      ],
      "text/plain": [
       "<IPython.core.display.HTML object>"
      ]
     },
     "metadata": {},
     "output_type": "display_data"
    }
   ],
   "source": [
    "%%html\n",
    "<img src=\"https://adeshpande3.github.io/assets/LeNet.png\", width=1000>"
   ]
  },
  {
   "cell_type": "code",
   "execution_count": 21,
   "metadata": {},
   "outputs": [
    {
     "name": "stdout",
     "output_type": "stream",
     "text": [
      "Model: \"sequential_4\"\n",
      "_________________________________________________________________\n",
      "Layer (type)                 Output Shape              Param #   \n",
      "=================================================================\n",
      "conv2d_7 (Conv2D)            (None, 92, 92, 6)         456       \n",
      "_________________________________________________________________\n",
      "max_pooling2d_7 (MaxPooling2 (None, 46, 46, 6)         0         \n",
      "_________________________________________________________________\n",
      "conv2d_8 (Conv2D)            (None, 42, 42, 16)        2416      \n",
      "_________________________________________________________________\n",
      "max_pooling2d_8 (MaxPooling2 (None, 21, 21, 16)        0         \n",
      "_________________________________________________________________\n",
      "flatten_4 (Flatten)          (None, 7056)              0         \n",
      "_________________________________________________________________\n",
      "dense_10 (Dense)             (None, 120)               846840    \n",
      "_________________________________________________________________\n",
      "dense_11 (Dense)             (None, 84)                10164     \n",
      "_________________________________________________________________\n",
      "dense_12 (Dense)             (None, 10)                850       \n",
      "=================================================================\n",
      "Total params: 860,726\n",
      "Trainable params: 860,726\n",
      "Non-trainable params: 0\n",
      "_________________________________________________________________\n"
     ]
    }
   ],
   "source": [
    "# Now I built a simple model with LeNet architecture with no optymalization on hyperparameters.\n",
    "\n",
    "model = Sequential()\n",
    "model.add(Conv2D(6, (5,5), activation=\"relu\", input_shape= (img_width, img_height, 3)))\n",
    "model.add(MaxPooling2D(2))\n",
    "\n",
    "model.add(Conv2D(16, (5,5), activation=\"relu\"))\n",
    "model.add(MaxPooling2D(2))\n",
    "\n",
    "model.add(Flatten())\n",
    "model.add(Dense(120, activation='relu'))\n",
    "model.add(Dense(84, activation='relu'))\n",
    "model.add(Dense(10, activation='softmax'))\n",
    "\n",
    "model.compile(loss='categorical_crossentropy',\n",
    "            optimizer=\"adam\",\n",
    "            metrics=[\"categorical_accuracy\"])\n",
    "\n",
    "model.summary()\n",
    "\n",
    "\n",
    "# Model saving callback\n",
    "checkpointer = ModelCheckpoint(filepath='flower_basic_cnn.h5py', monitor='val_categorical_accuracy', save_best_only=True)"
   ]
  },
  {
   "cell_type": "code",
   "execution_count": 17,
   "metadata": {},
   "outputs": [
    {
     "name": "stderr",
     "output_type": "stream",
     "text": [
      "/home/natalia/anaconda3/lib/python3.6/site-packages/ipykernel_launcher.py:7: UserWarning: The semantics of the Keras 2 argument `steps_per_epoch` is not the same as the Keras 1 argument `samples_per_epoch`. `steps_per_epoch` is the number of batches to draw from the generator at each epoch. Basically steps_per_epoch = samples_per_epoch/batch_size. Similarly `nb_val_samples`->`validation_steps` and `val_samples`->`steps` arguments have changed. Update your method calls accordingly.\n",
      "  import sys\n",
      "/home/natalia/anaconda3/lib/python3.6/site-packages/ipykernel_launcher.py:7: UserWarning: Update your `fit_generator` call to the Keras 2 API: `fit_generator(generator=<keras_pre..., validation_data=<keras_pre..., callbacks=[<keras.ca..., verbose=1, epochs=100, steps_per_epoch=45, validation_steps=30)`\n",
      "  import sys\n"
     ]
    },
    {
     "name": "stdout",
     "output_type": "stream",
     "text": [
      "Epoch 1/100\n",
      "45/45 [==============================] - 5s 120ms/step - loss: 2.3340 - categorical_accuracy: 0.1111 - val_loss: 2.2447 - val_categorical_accuracy: 0.2632\n",
      "Epoch 2/100\n",
      "45/45 [==============================] - 5s 113ms/step - loss: 2.1074 - categorical_accuracy: 0.2056 - val_loss: 1.7770 - val_categorical_accuracy: 0.2946\n",
      "Epoch 3/100\n",
      "45/45 [==============================] - 5s 111ms/step - loss: 1.7979 - categorical_accuracy: 0.3444 - val_loss: 1.7451 - val_categorical_accuracy: 0.3036\n",
      "Epoch 4/100\n",
      "45/45 [==============================] - 5s 116ms/step - loss: 1.6812 - categorical_accuracy: 0.3111 - val_loss: 1.7497 - val_categorical_accuracy: 0.3661\n",
      "Epoch 5/100\n",
      "45/45 [==============================] - 5s 107ms/step - loss: 1.6198 - categorical_accuracy: 0.4000 - val_loss: 1.5464 - val_categorical_accuracy: 0.4649\n",
      "Epoch 6/100\n",
      "45/45 [==============================] - 5s 105ms/step - loss: 1.3899 - categorical_accuracy: 0.4611 - val_loss: 1.7450 - val_categorical_accuracy: 0.3036\n",
      "Epoch 7/100\n",
      "45/45 [==============================] - 5s 117ms/step - loss: 1.3389 - categorical_accuracy: 0.4500 - val_loss: 1.6506 - val_categorical_accuracy: 0.3929\n",
      "Epoch 8/100\n",
      "45/45 [==============================] - 5s 110ms/step - loss: 1.1858 - categorical_accuracy: 0.6000 - val_loss: 1.1046 - val_categorical_accuracy: 0.5446\n",
      "Epoch 9/100\n",
      "45/45 [==============================] - 5s 103ms/step - loss: 1.1712 - categorical_accuracy: 0.5278 - val_loss: 0.9706 - val_categorical_accuracy: 0.6667\n",
      "Epoch 10/100\n",
      "45/45 [==============================] - 4s 98ms/step - loss: 1.0488 - categorical_accuracy: 0.6111 - val_loss: 1.5547 - val_categorical_accuracy: 0.4821\n",
      "Epoch 11/100\n",
      "45/45 [==============================] - 4s 100ms/step - loss: 1.0069 - categorical_accuracy: 0.6667 - val_loss: 1.0460 - val_categorical_accuracy: 0.5982\n",
      "Epoch 12/100\n",
      "45/45 [==============================] - 5s 102ms/step - loss: 0.9804 - categorical_accuracy: 0.6833 - val_loss: 0.9684 - val_categorical_accuracy: 0.6339\n",
      "Epoch 13/100\n",
      "45/45 [==============================] - 5s 107ms/step - loss: 0.9100 - categorical_accuracy: 0.6611 - val_loss: 1.1135 - val_categorical_accuracy: 0.5614\n",
      "Epoch 14/100\n",
      "45/45 [==============================] - 5s 103ms/step - loss: 0.8293 - categorical_accuracy: 0.6722 - val_loss: 1.2212 - val_categorical_accuracy: 0.7054\n",
      "Epoch 15/100\n",
      "45/45 [==============================] - 5s 111ms/step - loss: 0.7756 - categorical_accuracy: 0.7444 - val_loss: 0.6808 - val_categorical_accuracy: 0.7679\n",
      "Epoch 16/100\n",
      "45/45 [==============================] - 5s 104ms/step - loss: 0.8260 - categorical_accuracy: 0.7000 - val_loss: 1.0869 - val_categorical_accuracy: 0.6250\n",
      "Epoch 17/100\n",
      "45/45 [==============================] - 5s 114ms/step - loss: 0.8556 - categorical_accuracy: 0.6833 - val_loss: 0.7991 - val_categorical_accuracy: 0.6316\n",
      "Epoch 18/100\n",
      "45/45 [==============================] - 5s 113ms/step - loss: 0.7259 - categorical_accuracy: 0.7444 - val_loss: 1.0471 - val_categorical_accuracy: 0.5536\n",
      "Epoch 19/100\n",
      "45/45 [==============================] - 6s 125ms/step - loss: 0.7570 - categorical_accuracy: 0.7389 - val_loss: 0.9823 - val_categorical_accuracy: 0.6429\n",
      "Epoch 20/100\n",
      "45/45 [==============================] - 5s 102ms/step - loss: 0.7685 - categorical_accuracy: 0.7278 - val_loss: 1.1551 - val_categorical_accuracy: 0.5982\n",
      "Epoch 21/100\n",
      "45/45 [==============================] - 5s 104ms/step - loss: 0.7716 - categorical_accuracy: 0.6889 - val_loss: 0.8978 - val_categorical_accuracy: 0.7368\n",
      "Epoch 22/100\n",
      "45/45 [==============================] - 5s 103ms/step - loss: 0.6177 - categorical_accuracy: 0.7833 - val_loss: 0.9285 - val_categorical_accuracy: 0.7232\n",
      "Epoch 23/100\n",
      "45/45 [==============================] - 4s 99ms/step - loss: 0.7127 - categorical_accuracy: 0.7444 - val_loss: 0.6921 - val_categorical_accuracy: 0.7589\n",
      "Epoch 24/100\n",
      "45/45 [==============================] - 4s 99ms/step - loss: 0.5873 - categorical_accuracy: 0.8056 - val_loss: 0.7344 - val_categorical_accuracy: 0.6786\n",
      "Epoch 25/100\n",
      "45/45 [==============================] - 5s 105ms/step - loss: 0.6036 - categorical_accuracy: 0.7556 - val_loss: 0.7540 - val_categorical_accuracy: 0.7018\n",
      "Epoch 26/100\n",
      "45/45 [==============================] - 5s 115ms/step - loss: 0.5909 - categorical_accuracy: 0.7556 - val_loss: 0.7677 - val_categorical_accuracy: 0.6696\n",
      "Epoch 27/100\n",
      "45/45 [==============================] - 5s 102ms/step - loss: 0.5481 - categorical_accuracy: 0.7778 - val_loss: 0.7264 - val_categorical_accuracy: 0.6964\n",
      "Epoch 28/100\n",
      "45/45 [==============================] - 5s 120ms/step - loss: 0.5116 - categorical_accuracy: 0.8389 - val_loss: 0.8717 - val_categorical_accuracy: 0.8125\n",
      "Epoch 29/100\n",
      "45/45 [==============================] - 5s 109ms/step - loss: 0.5541 - categorical_accuracy: 0.8056 - val_loss: 0.6413 - val_categorical_accuracy: 0.7281\n",
      "Epoch 30/100\n",
      "45/45 [==============================] - 5s 106ms/step - loss: 0.7309 - categorical_accuracy: 0.7389 - val_loss: 0.5201 - val_categorical_accuracy: 0.8125\n",
      "Epoch 31/100\n",
      "45/45 [==============================] - 5s 122ms/step - loss: 0.5613 - categorical_accuracy: 0.8167 - val_loss: 0.5929 - val_categorical_accuracy: 0.7679\n",
      "Epoch 32/100\n",
      "45/45 [==============================] - 6s 124ms/step - loss: 0.7199 - categorical_accuracy: 0.7611 - val_loss: 0.9431 - val_categorical_accuracy: 0.6518\n",
      "Epoch 33/100\n",
      "45/45 [==============================] - 6s 123ms/step - loss: 0.4972 - categorical_accuracy: 0.8222 - val_loss: 0.6581 - val_categorical_accuracy: 0.7895\n",
      "Epoch 34/100\n",
      "45/45 [==============================] - 5s 109ms/step - loss: 0.4565 - categorical_accuracy: 0.8278 - val_loss: 0.7747 - val_categorical_accuracy: 0.6786\n",
      "Epoch 35/100\n",
      "45/45 [==============================] - 5s 109ms/step - loss: 0.5994 - categorical_accuracy: 0.8000 - val_loss: 1.0522 - val_categorical_accuracy: 0.6696\n",
      "Epoch 36/100\n",
      "45/45 [==============================] - 5s 113ms/step - loss: 0.4634 - categorical_accuracy: 0.8389 - val_loss: 0.9643 - val_categorical_accuracy: 0.6786\n",
      "Epoch 37/100\n",
      "45/45 [==============================] - 5s 115ms/step - loss: 0.5831 - categorical_accuracy: 0.7722 - val_loss: 0.7515 - val_categorical_accuracy: 0.7544\n",
      "Epoch 38/100\n",
      "45/45 [==============================] - 5s 112ms/step - loss: 0.4461 - categorical_accuracy: 0.8444 - val_loss: 1.1319 - val_categorical_accuracy: 0.6518\n",
      "Epoch 39/100\n",
      "45/45 [==============================] - 5s 108ms/step - loss: 0.3707 - categorical_accuracy: 0.8556 - val_loss: 0.7524 - val_categorical_accuracy: 0.7500\n",
      "Epoch 40/100\n",
      "45/45 [==============================] - 5s 110ms/step - loss: 0.4017 - categorical_accuracy: 0.8500 - val_loss: 0.7989 - val_categorical_accuracy: 0.6339\n",
      "Epoch 41/100\n",
      "45/45 [==============================] - 5s 116ms/step - loss: 0.4213 - categorical_accuracy: 0.8500 - val_loss: 0.8953 - val_categorical_accuracy: 0.7368\n",
      "Epoch 42/100\n",
      "45/45 [==============================] - 5s 108ms/step - loss: 0.3009 - categorical_accuracy: 0.8778 - val_loss: 1.0118 - val_categorical_accuracy: 0.7143\n",
      "Epoch 43/100\n",
      "45/45 [==============================] - 5s 113ms/step - loss: 0.3656 - categorical_accuracy: 0.8444 - val_loss: 0.9073 - val_categorical_accuracy: 0.6964\n",
      "Epoch 44/100\n",
      "45/45 [==============================] - 5s 106ms/step - loss: 0.5471 - categorical_accuracy: 0.8111 - val_loss: 0.6855 - val_categorical_accuracy: 0.7946\n",
      "Epoch 45/100\n",
      "45/45 [==============================] - 6s 122ms/step - loss: 0.5932 - categorical_accuracy: 0.7889 - val_loss: 1.0902 - val_categorical_accuracy: 0.7105\n",
      "Epoch 46/100\n",
      "45/45 [==============================] - 5s 113ms/step - loss: 0.6562 - categorical_accuracy: 0.7833 - val_loss: 0.7401 - val_categorical_accuracy: 0.7143\n",
      "Epoch 47/100\n",
      "45/45 [==============================] - 5s 111ms/step - loss: 0.4542 - categorical_accuracy: 0.8278 - val_loss: 0.7740 - val_categorical_accuracy: 0.7768\n",
      "Epoch 48/100\n",
      "45/45 [==============================] - 5s 113ms/step - loss: 0.2782 - categorical_accuracy: 0.9111 - val_loss: 0.8092 - val_categorical_accuracy: 0.7232\n",
      "Epoch 49/100\n",
      "45/45 [==============================] - 6s 125ms/step - loss: 0.2691 - categorical_accuracy: 0.9000 - val_loss: 0.7276 - val_categorical_accuracy: 0.8070\n"
     ]
    },
    {
     "name": "stdout",
     "output_type": "stream",
     "text": [
      "Epoch 50/100\n",
      "45/45 [==============================] - 5s 108ms/step - loss: 0.3017 - categorical_accuracy: 0.9000 - val_loss: 0.7943 - val_categorical_accuracy: 0.7857\n",
      "Epoch 51/100\n",
      "45/45 [==============================] - 5s 111ms/step - loss: 0.3017 - categorical_accuracy: 0.8944 - val_loss: 0.8112 - val_categorical_accuracy: 0.7232\n",
      "Epoch 52/100\n",
      "45/45 [==============================] - 5s 106ms/step - loss: 0.4142 - categorical_accuracy: 0.8444 - val_loss: 0.5925 - val_categorical_accuracy: 0.7500\n",
      "Epoch 53/100\n",
      "45/45 [==============================] - 5s 109ms/step - loss: 0.2779 - categorical_accuracy: 0.8944 - val_loss: 0.7940 - val_categorical_accuracy: 0.8421\n",
      "Epoch 54/100\n",
      "45/45 [==============================] - 5s 114ms/step - loss: 0.3381 - categorical_accuracy: 0.8722 - val_loss: 0.7375 - val_categorical_accuracy: 0.7411\n",
      "Epoch 55/100\n",
      "45/45 [==============================] - 5s 110ms/step - loss: 0.5003 - categorical_accuracy: 0.8167 - val_loss: 1.3643 - val_categorical_accuracy: 0.5357\n",
      "Epoch 56/100\n",
      "45/45 [==============================] - 5s 113ms/step - loss: 0.4340 - categorical_accuracy: 0.8611 - val_loss: 0.6541 - val_categorical_accuracy: 0.6964\n",
      "Epoch 57/100\n",
      "45/45 [==============================] - 5s 120ms/step - loss: 0.2854 - categorical_accuracy: 0.9222 - val_loss: 0.6348 - val_categorical_accuracy: 0.7368\n",
      "Epoch 58/100\n",
      "45/45 [==============================] - 5s 111ms/step - loss: 0.2945 - categorical_accuracy: 0.8833 - val_loss: 0.7590 - val_categorical_accuracy: 0.7054\n",
      "Epoch 59/100\n",
      "45/45 [==============================] - 5s 110ms/step - loss: 0.3226 - categorical_accuracy: 0.8833 - val_loss: 1.2344 - val_categorical_accuracy: 0.5179\n",
      "Epoch 60/100\n",
      "45/45 [==============================] - 5s 108ms/step - loss: 0.5166 - categorical_accuracy: 0.8389 - val_loss: 0.6217 - val_categorical_accuracy: 0.7679\n",
      "Epoch 61/100\n",
      "45/45 [==============================] - 5s 109ms/step - loss: 0.2555 - categorical_accuracy: 0.9056 - val_loss: 0.6381 - val_categorical_accuracy: 0.7368\n",
      "Epoch 62/100\n",
      "45/45 [==============================] - 5s 108ms/step - loss: 0.2586 - categorical_accuracy: 0.9056 - val_loss: 0.5719 - val_categorical_accuracy: 0.8304\n",
      "Epoch 63/100\n",
      "45/45 [==============================] - 5s 108ms/step - loss: 0.4438 - categorical_accuracy: 0.8778 - val_loss: 0.6927 - val_categorical_accuracy: 0.7857\n",
      "Epoch 64/100\n",
      "45/45 [==============================] - 5s 110ms/step - loss: 0.3784 - categorical_accuracy: 0.8556 - val_loss: 0.6750 - val_categorical_accuracy: 0.7321\n",
      "Epoch 65/100\n",
      "45/45 [==============================] - 5s 109ms/step - loss: 0.3538 - categorical_accuracy: 0.8667 - val_loss: 0.9675 - val_categorical_accuracy: 0.7632\n",
      "Epoch 66/100\n",
      "45/45 [==============================] - 5s 109ms/step - loss: 0.2952 - categorical_accuracy: 0.8889 - val_loss: 1.0454 - val_categorical_accuracy: 0.6875\n",
      "Epoch 67/100\n",
      "45/45 [==============================] - 5s 111ms/step - loss: 0.3310 - categorical_accuracy: 0.8833 - val_loss: 1.6484 - val_categorical_accuracy: 0.6161\n",
      "Epoch 68/100\n",
      "45/45 [==============================] - 5s 108ms/step - loss: 0.4666 - categorical_accuracy: 0.8333 - val_loss: 0.8816 - val_categorical_accuracy: 0.6607\n",
      "Epoch 69/100\n",
      "45/45 [==============================] - 5s 109ms/step - loss: 0.2944 - categorical_accuracy: 0.9167 - val_loss: 0.9721 - val_categorical_accuracy: 0.6667\n",
      "Epoch 70/100\n",
      "45/45 [==============================] - 5s 109ms/step - loss: 0.2156 - categorical_accuracy: 0.9333 - val_loss: 0.5887 - val_categorical_accuracy: 0.8125\n",
      "Epoch 71/100\n",
      "45/45 [==============================] - 5s 111ms/step - loss: 0.3053 - categorical_accuracy: 0.8667 - val_loss: 1.1024 - val_categorical_accuracy: 0.6786\n",
      "Epoch 72/100\n",
      "45/45 [==============================] - 5s 108ms/step - loss: 0.2244 - categorical_accuracy: 0.9167 - val_loss: 0.6742 - val_categorical_accuracy: 0.7411\n",
      "Epoch 73/100\n",
      "45/45 [==============================] - 5s 109ms/step - loss: 0.2323 - categorical_accuracy: 0.8944 - val_loss: 0.8068 - val_categorical_accuracy: 0.6930\n",
      "Epoch 74/100\n",
      "45/45 [==============================] - 5s 108ms/step - loss: 0.1591 - categorical_accuracy: 0.9556 - val_loss: 0.6335 - val_categorical_accuracy: 0.7768\n",
      "Epoch 75/100\n",
      "45/45 [==============================] - 5s 108ms/step - loss: 0.2218 - categorical_accuracy: 0.9056 - val_loss: 0.8338 - val_categorical_accuracy: 0.7500\n",
      "Epoch 76/100\n",
      "45/45 [==============================] - 5s 108ms/step - loss: 0.3302 - categorical_accuracy: 0.8667 - val_loss: 0.7483 - val_categorical_accuracy: 0.8036\n",
      "Epoch 77/100\n",
      "45/45 [==============================] - 5s 109ms/step - loss: 0.3463 - categorical_accuracy: 0.8778 - val_loss: 0.9552 - val_categorical_accuracy: 0.7281\n",
      "Epoch 78/100\n",
      "45/45 [==============================] - 5s 108ms/step - loss: 0.2992 - categorical_accuracy: 0.9111 - val_loss: 0.8970 - val_categorical_accuracy: 0.7232\n",
      "Epoch 79/100\n",
      "45/45 [==============================] - 5s 111ms/step - loss: 0.2472 - categorical_accuracy: 0.9056 - val_loss: 0.8061 - val_categorical_accuracy: 0.7232\n",
      "Epoch 80/100\n",
      "45/45 [==============================] - 5s 108ms/step - loss: 0.1832 - categorical_accuracy: 0.9500 - val_loss: 1.0659 - val_categorical_accuracy: 0.6696\n",
      "Epoch 81/100\n",
      "45/45 [==============================] - 5s 109ms/step - loss: 0.1630 - categorical_accuracy: 0.9333 - val_loss: 1.1077 - val_categorical_accuracy: 0.7719\n",
      "Epoch 82/100\n",
      "45/45 [==============================] - 5s 109ms/step - loss: 0.2539 - categorical_accuracy: 0.9167 - val_loss: 0.8731 - val_categorical_accuracy: 0.7143\n",
      "Epoch 83/100\n",
      "45/45 [==============================] - 5s 111ms/step - loss: 0.1948 - categorical_accuracy: 0.9278 - val_loss: 0.8692 - val_categorical_accuracy: 0.7679\n",
      "Epoch 84/100\n",
      "45/45 [==============================] - 5s 108ms/step - loss: 0.1834 - categorical_accuracy: 0.9333 - val_loss: 1.0824 - val_categorical_accuracy: 0.6339\n",
      "Epoch 85/100\n",
      "45/45 [==============================] - 5s 112ms/step - loss: 0.2699 - categorical_accuracy: 0.9000 - val_loss: 1.7657 - val_categorical_accuracy: 0.6842\n",
      "Epoch 86/100\n",
      "45/45 [==============================] - 5s 111ms/step - loss: 0.2709 - categorical_accuracy: 0.9000 - val_loss: 0.9524 - val_categorical_accuracy: 0.6875\n",
      "Epoch 87/100\n",
      "45/45 [==============================] - 5s 111ms/step - loss: 0.1667 - categorical_accuracy: 0.9389 - val_loss: 0.8663 - val_categorical_accuracy: 0.7500\n",
      "Epoch 88/100\n",
      "45/45 [==============================] - 5s 108ms/step - loss: 0.1654 - categorical_accuracy: 0.9500 - val_loss: 0.9544 - val_categorical_accuracy: 0.7589\n",
      "Epoch 89/100\n",
      "45/45 [==============================] - 5s 109ms/step - loss: 0.1551 - categorical_accuracy: 0.9444 - val_loss: 0.7975 - val_categorical_accuracy: 0.8596\n",
      "Epoch 90/100\n",
      "45/45 [==============================] - 5s 109ms/step - loss: 0.1469 - categorical_accuracy: 0.9556 - val_loss: 0.9896 - val_categorical_accuracy: 0.7232\n",
      "Epoch 91/100\n",
      "45/45 [==============================] - 5s 111ms/step - loss: 0.1839 - categorical_accuracy: 0.9444 - val_loss: 1.5298 - val_categorical_accuracy: 0.7321\n",
      "Epoch 92/100\n",
      "45/45 [==============================] - 5s 108ms/step - loss: 0.2092 - categorical_accuracy: 0.9222 - val_loss: 1.0123 - val_categorical_accuracy: 0.6250\n",
      "Epoch 93/100\n",
      "45/45 [==============================] - 5s 109ms/step - loss: 0.1684 - categorical_accuracy: 0.9278 - val_loss: 1.3136 - val_categorical_accuracy: 0.7281\n",
      "Epoch 94/100\n",
      "45/45 [==============================] - 5s 109ms/step - loss: 0.1504 - categorical_accuracy: 0.9500 - val_loss: 1.3646 - val_categorical_accuracy: 0.7679\n",
      "Epoch 95/100\n",
      "45/45 [==============================] - 5s 109ms/step - loss: 0.1697 - categorical_accuracy: 0.9444 - val_loss: 1.4790 - val_categorical_accuracy: 0.7321\n",
      "Epoch 96/100\n",
      "45/45 [==============================] - 5s 110ms/step - loss: 0.2671 - categorical_accuracy: 0.9167 - val_loss: 1.0425 - val_categorical_accuracy: 0.6696\n",
      "Epoch 97/100\n",
      "45/45 [==============================] - 5s 111ms/step - loss: 0.1631 - categorical_accuracy: 0.9444 - val_loss: 1.0242 - val_categorical_accuracy: 0.7632\n",
      "Epoch 98/100\n",
      "45/45 [==============================] - 5s 111ms/step - loss: 0.2143 - categorical_accuracy: 0.9333 - val_loss: 1.0068 - val_categorical_accuracy: 0.7500\n"
     ]
    },
    {
     "name": "stdout",
     "output_type": "stream",
     "text": [
      "Epoch 99/100\n",
      "45/45 [==============================] - 5s 102ms/step - loss: 0.2994 - categorical_accuracy: 0.9111 - val_loss: 1.4232 - val_categorical_accuracy: 0.5982\n",
      "Epoch 100/100\n",
      "45/45 [==============================] - 5s 101ms/step - loss: 0.5986 - categorical_accuracy: 0.8500 - val_loss: 1.4042 - val_categorical_accuracy: 0.6339\n"
     ]
    }
   ],
   "source": [
    "history = model.fit_generator(generator=train_flow, \n",
    "                    samples_per_epoch=nb_train_samples,\n",
    "                    validation_data=validation_flow,\n",
    "                    nb_val_samples=nb_validation_samples,\n",
    "                    callbacks=[checkpointer],\n",
    "                    verbose=1,\n",
    "                    epochs=epochs)"
   ]
  },
  {
   "cell_type": "code",
   "execution_count": 54,
   "metadata": {},
   "outputs": [
    {
     "data": {
      "text/plain": [
       "[0.758245103624132, 0.8666666581895617]"
      ]
     },
     "execution_count": 54,
     "metadata": {},
     "output_type": "execute_result"
    }
   ],
   "source": [
    "# loss an accuracy on validation samples\n",
    "model.load_weights(\"flower_basic_cnn.h5py\")\n",
    "model.evaluate_generator(validation_flow, nb_validation_samples)"
   ]
  },
  {
   "cell_type": "code",
   "execution_count": 83,
   "metadata": {},
   "outputs": [
    {
     "data": {
      "text/plain": [
       "array([8, 5, 7, 0, 2, 3, 4, 8, 1, 2, 8, 1, 7, 5, 6, 0, 0, 3, 3, 4, 3, 8,\n",
       "       9, 7, 4, 2, 4, 8, 5, 3])"
      ]
     },
     "execution_count": 83,
     "metadata": {},
     "output_type": "execute_result"
    }
   ],
   "source": [
    "np.argmax(model.predict_generator(validation_flow), axis=1)"
   ]
  },
  {
   "cell_type": "code",
   "execution_count": 55,
   "metadata": {
    "scrolled": true
   },
   "outputs": [
    {
     "name": "stdout",
     "output_type": "stream",
     "text": [
      "Confusion Matrix\n",
      "   0  1  2  3  4  5  6  7  8  9\n",
      "0  0  0  0  0  0  0  0  0  2  1\n",
      "1  0  0  1  0  1  0  0  1  0  0\n",
      "2  0  1  0  2  0  0  0  0  0  0\n",
      "3  0  1  1  0  0  0  1  0  0  0\n",
      "4  0  1  0  0  1  0  0  1  0  0\n",
      "5  1  0  0  0  1  0  0  1  0  0\n",
      "6  2  0  0  0  0  0  0  0  1  0\n",
      "7  0  0  1  0  0  1  0  0  0  1\n",
      "8  0  0  0  0  0  0  0  0  1  2\n",
      "9  1  0  0  1  0  1  0  0  0  0\n"
     ]
    }
   ],
   "source": [
    "#Confution Matrix\n",
    "Y_pred = model.predict_generator(validation_flow)\n",
    "y_pred = np.argmax(Y_pred, axis=1)\n",
    "print('Confusion Matrix')\n",
    "matrix = confusion_matrix(validation_flow.classes, y_pred)\n",
    "new_matrix = pd.DataFrame(matrix)\n",
    "print(new_matrix)"
   ]
  },
  {
   "cell_type": "code",
   "execution_count": 56,
   "metadata": {},
   "outputs": [
    {
     "name": "stdout",
     "output_type": "stream",
     "text": [
      "Classification Report\n",
      "                  precision    recall  f1-score   support\n",
      "\n",
      "        Geranium       0.00      0.00      0.00         3\n",
      "            Rose       0.00      0.00      0.00         3\n",
      "English merigold       0.00      0.00      0.00         3\n",
      "           Viola       0.00      0.00      0.00         3\n",
      "           Daisy       0.33      0.33      0.33         3\n",
      "        Trillium       0.00      0.00      0.00         3\n",
      "            Iris       0.00      0.00      0.00         3\n",
      "       Dandelion       0.00      0.00      0.00         3\n",
      "          Dahlia       0.25      0.33      0.29         3\n",
      "      Tiger Lily       0.00      0.00      0.00         3\n",
      "\n",
      "       micro avg       0.07      0.07      0.07        30\n",
      "       macro avg       0.06      0.07      0.06        30\n",
      "    weighted avg       0.06      0.07      0.06        30\n",
      "\n"
     ]
    }
   ],
   "source": [
    "#Classification Report\n",
    "print('Classification Report')\n",
    "target_names = ['Geranium', 'Rose', 'English merigold', 'Viola', 'Daisy', \n",
    "           'Trillium', 'Iris', 'Dandelion', 'Dahlia', 'Tiger Lily']\n",
    "report = classification_report(validation_flow.classes, y_pred, target_names=target_names)\n",
    "print(report)"
   ]
  },
  {
   "cell_type": "code",
   "execution_count": 19,
   "metadata": {
    "scrolled": false
   },
   "outputs": [
    {
     "data": {
      "image/png": "[encoded data removed]",
      "text/plain": [
       "<matplotlib.figure.Figure at 0x7f5c5dcd95c0>"
      ]
     },
     "metadata": {
      "needs_background": "light"
     },
     "output_type": "display_data"
    },
    {
     "data": {
      "image/png": "[encoded data removed]",
      "text/plain": [
       "<matplotlib.figure.Figure at 0x7f5ca144c630>"
      ]
     },
     "metadata": {
      "needs_background": "light"
     },
     "output_type": "display_data"
    }
   ],
   "source": [
    "fig, ax = plt.subplots()\n",
    "plt.plot(history.history['categorical_accuracy'])\n",
    "plt.plot(history.history['val_categorical_accuracy'])\n",
    "plt.title('Model accuracy')\n",
    "plt.ylabel('Accuracy')\n",
    "plt.xlabel('Epoch')\n",
    "plt.legend(['Train', 'Test'], loc='upper left')\n",
    "plt.show()\n",
    "\n",
    "fig, ax = plt.subplots()\n",
    "plt.plot(history.history['loss'])\n",
    "plt.plot(history.history['val_loss'])\n",
    "plt.title('Model loss')\n",
    "plt.ylabel('Loss')\n",
    "plt.xlabel('Epoch')\n",
    "plt.legend(['Train', 'Test'], loc='upper left')\n",
    "plt.show()"
   ]
  },
  {
   "cell_type": "markdown",
   "metadata": {},
   "source": [
    "As we can see, there is a problem with overfitting on the train set. During epochs accuracy is increasing and loss is deacresing at train set, but from some point it's doing opposite on validation set. Our model is overtrained and will not predict classes properly. \n",
    "\n",
    "This situation provides me to next steps:\n",
    "    * padding\n",
    "    * data augumentation\n",
    "    * hyperparameters optimalization\n",
    "    * early stopping\n",
    "    * transfer learning using pre-trained models"
   ]
  },
  {
   "cell_type": "markdown",
   "metadata": {},
   "source": [
    "Below I will one more time generate training and validation set, but this time I will add data augumentation. Keras ImageDataGenerator class allows us to change our data set in many ways, for example:\n",
    "    * random rotation \n",
    "    * zoom\n",
    "    * horizontal and vertical flip\n",
    "    * rescale\n",
    "    * width and heigth shift\n",
    "    * brightness\n",
    "    * shear\n",
    "    * fill points outside the boundaries of the input\n",
    "    \n",
    "Now every photo used for learning during epochs will be a little bit diffrent."
   ]
  },
  {
   "cell_type": "code",
   "execution_count": 60,
   "metadata": {},
   "outputs": [
    {
     "name": "stdout",
     "output_type": "stream",
     "text": [
      "Found 180 images belonging to 10 classes.\n",
      "Found 30 images belonging to 10 classes.\n"
     ]
    }
   ],
   "source": [
    "batch_size = 16\n",
    "# Pixel values rescaling from [0, 255] to [0, 1] interval\n",
    "train_generator = ImageDataGenerator(rescale=1/255, \n",
    "                                     rotation_range=90, \n",
    "                                     zoom_range=[0.5, 1.5], \n",
    "                                     horizontal_flip=True,\n",
    "                                     vertical_flip=True, \n",
    "                                     width_shift_range=0.1, \n",
    "                                     height_shift_range=0.1, \n",
    "                                     fill_mode='reflect', \n",
    "                                     shear_range=0.01, \n",
    "                                     brightness_range=[0.5, 1.5])\n",
    "\n",
    "validation_generator = ImageDataGenerator(rescale=1/255)\n",
    "\n",
    "train_flow = train_generator.flow_from_directory(directory=train_data_dir, \n",
    "                                                 batch_size=batch_size, \n",
    "                                                 target_size=(img_height,img_width))\n",
    "\n",
    "validation_flow = validation_generator.flow_from_directory(directory=validation_data_dir, \n",
    "                                                           batch_size=batch_size,\n",
    "                                                           target_size=(img_height,img_width))"
   ]
  },
  {
   "cell_type": "markdown",
   "metadata": {},
   "source": [
    "For hyperparameters optimalization I will use [Talos](https://github.com/autonomio/talos) great tool made espacially for this. There are few hyperparameters which we can tune, in order of importance it is:\n",
    "    * learning rate\n",
    "    * loss function\n",
    "    * layer size\n",
    "    * weight initialization\n",
    "    * model depht\n",
    "    * layer params (eg. kernel size)\n",
    "    * weight of regularization\n",
    "    * optimizer choice\n",
    "    * batch size\n",
    "    * nonlinearity\n",
    "    \n",
    "I decide to optimize only some of the above: learning rate, loss function, leyer size, weight initialization, non-linearity by changing activation funtions and batch size."
   ]
  },
  {
   "cell_type": "code",
   "execution_count": 66,
   "metadata": {},
   "outputs": [],
   "source": [
    "params = {'first_neuron':[4,6,8],\n",
    "          'weights_regularization': [None, \n",
    "                                     l1(0.001), l1(0.01), \n",
    "                                     l1(0.1), l1(1),\n",
    "                                     l2(0.001), l2(0.01), \n",
    "                                     l2(0.1), l2(1)],\n",
    "          'batch_size': [16, 32, 64],\n",
    "          'losses': ['categorical_crossentropy', \n",
    "                     'sparse_categorical_crossentropy', \n",
    "                     'kullback_leibler_divergence'],\n",
    "          'last_activation': ['sigmoid', 'softmax'],\n",
    "          'epochs' : [100]\n",
    "          'optimizer' : ['adam', 'Nadam', 'sgd']\n",
    "     }"
   ]
  },
  {
   "cell_type": "code",
   "execution_count": 77,
   "metadata": {},
   "outputs": [],
   "source": [
    "def new_better_model(img_width, img_height, \n",
    "                train_flow, nb_train_samples, \n",
    "                validation_flow, nb_validation_samples, \n",
    "                params):\n",
    "    \n",
    "    model = Sequential()\n",
    "    model.add(Conv2D(6, (5,5), activation=\"relu\", input_shape= (img_width, img_height, 3), padding='same'))\n",
    "    model.add(MaxPooling2D(2))\n",
    "\n",
    "    model.add(Conv2D(16, (5,5), activation=\"relu\"))\n",
    "    model.add(MaxPooling2D(2))\n",
    "\n",
    "    model.add(Flatten())\n",
    "    model.add(Dense(120, activation='relu'))\n",
    "    model.add(Dense(84, activation='relu'))\n",
    "    model.add(Dense(10, activation='softmax'))\n",
    "\n",
    "    model.compile(loss='categorical_crossentropy',\n",
    "            optimizer='nadam',\n",
    "            metrics=[\"categorical_accuracy\"])\n",
    "    \n",
    "    # Model saving callback\n",
    "    checkpointer = ModelCheckpoint(filepath='flower_better_cnn.h5py', \n",
    "                               monitor='val_categorical_accuracy', save_best_only=True)\n",
    "    \n",
    "    # Early stopping\n",
    "    early_stopping = EarlyStopping(monitor='val_categorical_accuracy', verbose=1, patience=10)\n",
    "    \n",
    "    history = model.fit_generator(generator=train_flow, \n",
    "                    samples_per_epoch=nb_train_samples,\n",
    "                    validation_data=validation_flow,\n",
    "                    nb_val_samples=nb_validation_samples,\n",
    "                    callbacks=[early_stopping,\n",
    "                              checkpointer],\n",
    "                    verbose=1,\n",
    "                    epochs=100)\n",
    "    \n",
    "    return history, model"
   ]
  },
  {
   "cell_type": "code",
   "execution_count": 78,
   "metadata": {},
   "outputs": [
    {
     "name": "stdout",
     "output_type": "stream",
     "text": [
      "Epoch 1/100\n",
      "11/11 [==============================] - 8s 705ms/step - loss: 2.4202 - categorical_accuracy: 0.1700 - val_loss: 2.1553 - val_categorical_accuracy: 0.2000\n",
      "Epoch 2/100\n",
      "11/11 [==============================] - 7s 592ms/step - loss: 2.1567 - categorical_accuracy: 0.1585 - val_loss: 1.9792 - val_categorical_accuracy: 0.3000\n",
      "Epoch 3/100\n",
      "11/11 [==============================] - 6s 558ms/step - loss: 2.0260 - categorical_accuracy: 0.2885 - val_loss: 2.6150 - val_categorical_accuracy: 0.1000\n",
      "Epoch 4/100\n",
      "11/11 [==============================] - 6s 566ms/step - loss: 1.9762 - categorical_accuracy: 0.2841 - val_loss: 1.6410 - val_categorical_accuracy: 0.4000\n",
      "Epoch 5/100\n",
      "11/11 [==============================] - 6s 561ms/step - loss: 1.7276 - categorical_accuracy: 0.3446 - val_loss: 1.6343 - val_categorical_accuracy: 0.3333\n",
      "Epoch 6/100\n",
      "11/11 [==============================] - 6s 530ms/step - loss: 1.9082 - categorical_accuracy: 0.4169 - val_loss: 1.6411 - val_categorical_accuracy: 0.3333\n",
      "Epoch 7/100\n",
      "11/11 [==============================] - 6s 552ms/step - loss: 1.5929 - categorical_accuracy: 0.4602 - val_loss: 1.4263 - val_categorical_accuracy: 0.5000\n",
      "Epoch 8/100\n",
      "11/11 [==============================] - 6s 526ms/step - loss: 1.7633 - categorical_accuracy: 0.3676 - val_loss: 1.1259 - val_categorical_accuracy: 0.7667\n",
      "Epoch 9/100\n",
      "11/11 [==============================] - 6s 554ms/step - loss: 1.4239 - categorical_accuracy: 0.5284 - val_loss: 1.3630 - val_categorical_accuracy: 0.5667\n",
      "Epoch 10/100\n",
      "11/11 [==============================] - 6s 535ms/step - loss: 1.2749 - categorical_accuracy: 0.5328 - val_loss: 1.1182 - val_categorical_accuracy: 0.6333\n",
      "Epoch 11/100\n",
      "11/11 [==============================] - 6s 537ms/step - loss: 1.2506 - categorical_accuracy: 0.5229 - val_loss: 1.1255 - val_categorical_accuracy: 0.6333\n",
      "Epoch 12/100\n",
      "11/11 [==============================] - 6s 548ms/step - loss: 1.1006 - categorical_accuracy: 0.5827 - val_loss: 0.9912 - val_categorical_accuracy: 0.7000\n",
      "Epoch 13/100\n",
      "11/11 [==============================] - 6s 528ms/step - loss: 1.4333 - categorical_accuracy: 0.4771 - val_loss: 1.2087 - val_categorical_accuracy: 0.5667\n",
      "Epoch 14/100\n",
      "11/11 [==============================] - 6s 551ms/step - loss: 1.3008 - categorical_accuracy: 0.5625 - val_loss: 1.0290 - val_categorical_accuracy: 0.6667\n",
      "Epoch 15/100\n",
      "11/11 [==============================] - 6s 525ms/step - loss: 1.1160 - categorical_accuracy: 0.6151 - val_loss: 1.4598 - val_categorical_accuracy: 0.5667\n",
      "Epoch 16/100\n",
      "11/11 [==============================] - 6s 551ms/step - loss: 1.2514 - categorical_accuracy: 0.5511 - val_loss: 1.1192 - val_categorical_accuracy: 0.6333\n",
      "Epoch 17/100\n",
      "11/11 [==============================] - 6s 542ms/step - loss: 1.0154 - categorical_accuracy: 0.6044 - val_loss: 1.2391 - val_categorical_accuracy: 0.5667\n",
      "Epoch 18/100\n",
      "11/11 [==============================] - 6s 542ms/step - loss: 1.1958 - categorical_accuracy: 0.5930 - val_loss: 0.9413 - val_categorical_accuracy: 0.7333\n",
      "Epoch 00018: early stopping\n"
     ]
    }
   ],
   "source": [
    "history, model = new_better_model(img_width, img_height, \n",
    "                train_flow, nb_train_samples, \n",
    "                validation_flow, nb_validation_samples, \n",
    "                params)"
   ]
  },
  {
   "cell_type": "code",
   "execution_count": 74,
   "metadata": {},
   "outputs": [
    {
     "data": {
      "text/plain": [
       "30"
      ]
     },
     "execution_count": 74,
     "metadata": {},
     "output_type": "execute_result"
    }
   ],
   "source": [
    "validation_flow."
   ]
  },
  {
   "cell_type": "code",
   "execution_count": 79,
   "metadata": {},
   "outputs": [
    {
     "name": "stdout",
     "output_type": "stream",
     "text": [
      "Confusion Matrix\n",
      "   0  1  2  3  4  5  6  7  8  9\n",
      "0  1  0  2  0  0  0  0  0  0  0\n",
      "1  0  1  0  0  0  0  0  1  1  0\n",
      "2  0  0  0  1  0  1  1  0  0  0\n",
      "3  0  0  0  0  1  1  0  0  1  0\n",
      "4  1  0  0  0  0  0  0  1  1  0\n",
      "5  1  0  0  1  0  0  0  0  1  0\n",
      "6  0  0  1  0  0  0  0  1  1  0\n",
      "7  0  0  0  1  1  1  0  0  0  0\n",
      "8  0  0  0  1  1  0  0  0  0  1\n",
      "9  0  1  0  1  1  0  0  0  0  0\n"
     ]
    }
   ],
   "source": [
    "#Confution Matrix\n",
    "Y_pred = model.predict_generator(validation_flow)\n",
    "y_pred = np.argmax(Y_pred, axis=1)\n",
    "print('Confusion Matrix')\n",
    "matrix = confusion_matrix(validation_flow.classes, y_pred)\n",
    "new_matrix = pd.DataFrame(matrix)\n",
    "print(new_matrix)"
   ]
  },
  {
   "cell_type": "code",
   "execution_count": 80,
   "metadata": {},
   "outputs": [
    {
     "name": "stdout",
     "output_type": "stream",
     "text": [
      "Classification Report\n",
      "                  precision    recall  f1-score   support\n",
      "\n",
      "        Geranium       0.33      0.33      0.33         3\n",
      "            Rose       0.50      0.33      0.40         3\n",
      "English merigold       0.00      0.00      0.00         3\n",
      "           Viola       0.00      0.00      0.00         3\n",
      "           Daisy       0.00      0.00      0.00         3\n",
      "        Trillium       0.00      0.00      0.00         3\n",
      "            Iris       0.00      0.00      0.00         3\n",
      "       Dandelion       0.00      0.00      0.00         3\n",
      "          Dahlia       0.00      0.00      0.00         3\n",
      "      Tiger Lily       0.00      0.00      0.00         3\n",
      "\n",
      "       micro avg       0.07      0.07      0.07        30\n",
      "       macro avg       0.08      0.07      0.07        30\n",
      "    weighted avg       0.08      0.07      0.07        30\n",
      "\n"
     ]
    }
   ],
   "source": [
    "#Classification Report\n",
    "print('Classification Report')\n",
    "target_names = ['Geranium', 'Rose', 'English merigold', 'Viola', 'Daisy', \n",
    "           'Trillium', 'Iris', 'Dandelion', 'Dahlia', 'Tiger Lily']\n",
    "report = classification_report(validation_flow.classes, y_pred, target_names=target_names)\n",
    "print(report)"
   ]
  },
  {
   "cell_type": "code",
   "execution_count": 70,
   "metadata": {},
   "outputs": [
    {
     "ename": "NameError",
     "evalue": "name 'x' is not defined",
     "output_type": "error",
     "traceback": [
      "\u001b[0;31m---------------------------------------------------------------------------\u001b[0m",
      "\u001b[0;31mNameError\u001b[0m                                 Traceback (most recent call last)",
      "\u001b[0;32m<ipython-input-70-cfec654df9b7>\u001b[0m in \u001b[0;36m<module>\u001b[0;34m\u001b[0m\n\u001b[1;32m      1\u001b[0m talos_experiment = ta.Scan(\n\u001b[0;32m----> 2\u001b[0;31m             \u001b[0mx\u001b[0m\u001b[0;34m,\u001b[0m\u001b[0my\u001b[0m\u001b[0;34m=\u001b[0m\u001b[0mtrain_flow\u001b[0m\u001b[0;34m,\u001b[0m\u001b[0;34m\u001b[0m\u001b[0m\n\u001b[0m\u001b[1;32m      3\u001b[0m             \u001b[0mmodel\u001b[0m\u001b[0;34m=\u001b[0m\u001b[0mnew_better_model\u001b[0m\u001b[0;34m,\u001b[0m\u001b[0;34m\u001b[0m\u001b[0m\n\u001b[1;32m      4\u001b[0m             \u001b[0mparams\u001b[0m\u001b[0;34m=\u001b[0m\u001b[0mparams\u001b[0m\u001b[0;34m,\u001b[0m\u001b[0;34m\u001b[0m\u001b[0m\n\u001b[1;32m      5\u001b[0m             \u001b[0mdataset_name\u001b[0m\u001b[0;34m=\u001b[0m\u001b[0;34m'flowers'\u001b[0m\u001b[0;34m,\u001b[0m\u001b[0;34m\u001b[0m\u001b[0m\n",
      "\u001b[0;31mNameError\u001b[0m: name 'x' is not defined"
     ]
    }
   ],
   "source": [
    "talos_experiment = ta.Scan(\n",
    "            x = validation_flow.,\n",
    "            y = validation_flow.classes,\n",
    "            model = new_better_model,\n",
    "            params = params,\n",
    "            dataset_name = 'flowers',\n",
    "            experiment_no = '1',\n",
    "            grid_downsample = 0.1\n",
    "           )"
   ]
  },
  {
   "cell_type": "code",
   "execution_count": 42,
   "metadata": {},
   "outputs": [],
   "source": [
    "def new_better_model(train_flow, validation_flow, nb_train_samples, nb_validation_samples, params):\n",
    "    \n",
    "    model = Sequential()\n",
    "    model.add(Conv2D(params['first_neuron'], \n",
    "                     (5,5), \n",
    "                     activation=\"relu\", \n",
    "                     input_shape= (img_width, img_height, 3),\n",
    "                     padding=\"same\"))\n",
    "    model.add(MaxPooling2D(2))\n",
    "\n",
    "    model.add(Conv2D(16, (5,5), activation=\"relu\"))\n",
    "    model.add(MaxPooling2D(2))\n",
    "\n",
    "    model.add(Flatten())\n",
    "    model.add(Dense(120, activation='relu', kernel_regularizer=params['weights_regularization']))\n",
    "    model.add(Dense(84, activation='relu', kernel_regularizer=params['weights_regularization']))\n",
    "    model.add(Dense(10, activation=params['last_activation'], kernel_regularizer=params['weights_regularization']))\n",
    "\n",
    "    model.compile(loss=params['losses'],\n",
    "            optimizer=\"adam\",\n",
    "            metrics=[\"categorical_accuracy\"])\n",
    "    \n",
    "    # Model saving callback\n",
    "    checkpointer = ModelCheckpoint(filepath='flower_better_cnn.h5py', \n",
    "                               monitor='val_categorical_accuracy', save_best_only=True)\n",
    "    \n",
    "    # Early stopping\n",
    "    early_stopping = EarlyStopping(monitor='val_categorical_accuracy', verbose=1, patience=5)\n",
    "    \n",
    "    history = model.fit_generator(generator=train_flow, \n",
    "                    samples_per_epoch=nb_train_samples,\n",
    "                    validation_data=validation_flow,\n",
    "                    nb_val_samples=nb_validation_samples,\n",
    "                    callbacks=[early_stopping,\n",
    "                              checkpointer],\n",
    "                    verbose=1,\n",
    "                    epochs=epochs)\n",
    "    \n",
    "    return history, model"
   ]
  },
  {
   "cell_type": "markdown",
   "metadata": {},
   "source": [
    "Finally I will add early stopping, which is not the most important thing in debugging CNN, but will help avoid overfitting if everything above won't be enough."
   ]
  },
  {
   "cell_type": "code",
   "execution_count": null,
   "metadata": {},
   "outputs": [],
   "source": [
    "# Early stopping\n",
    "early_stopping = EarlyStopping(monitor='val_categorical_accuracy', verbose=1, patience=5)\n",
    "\n",
    "# Model saving callback\n",
    "checkpointer = ModelCheckpoint(filepath='flower_better_cnn.h5py', \n",
    "                               monitor='val_categorical_accuracy', save_best_only=True)"
   ]
  },
  {
   "cell_type": "markdown",
   "metadata": {},
   "source": [
    "Now I will consider VGG16 model. Let's check if this model will predict anything on sample of data."
   ]
  },
  {
   "cell_type": "code",
   "execution_count": 9,
   "metadata": {
    "scrolled": true
   },
   "outputs": [
    {
     "data": {
      "text/html": [
       "<img src='../data sets/Flower_by_color_categorization/train/0/0005.png', width=200>\n"
      ],
      "text/plain": [
       "<IPython.core.display.HTML object>"
      ]
     },
     "metadata": {},
     "output_type": "display_data"
    }
   ],
   "source": [
    "%%html\n",
    "<img src='../data sets/Flower_by_color_categorization/train/0/0005.png', width=200>"
   ]
  },
  {
   "cell_type": "code",
   "execution_count": 14,
   "metadata": {},
   "outputs": [
    {
     "name": "stdout",
     "output_type": "stream",
     "text": [
      "Downloading data from https://github.com/fchollet/deep-learning-models/releases/download/v0.5/inception_v3_weights_tf_dim_ordering_tf_kernels.h5\n",
      "96116736/96112376 [==============================] - 71s 1us/step\n",
      "Predicted: [('n03991062', 'pot', 0.87389034), ('n03930313', 'picket_fence', 0.04699375), ('n03457902', 'greenhouse', 0.027790138), ('n04522168', 'vase', 0.0045657544), ('n03461385', 'grocery_store', 0.0039166315)]\n"
     ]
    }
   ],
   "source": [
    "model = InceptionV3(weights = 'imagenet', include_top = True)\n",
    "\n",
    "img_path = r'../data sets/Flower_by_color_categorization/train/0/0005.png'\n",
    "img = image.load_img(img_path, target_size= (224,224))\n",
    "x = image.img_to_array(img)\n",
    "x = np.expand_dims(x, axis = 0)\n",
    "x = preprocess_input(x)\n",
    "\n",
    "preds = model.predict(x)\n",
    "print ('Predicted:', decode_predictions(preds)[0])"
   ]
  },
  {
   "cell_type": "code",
   "execution_count": null,
   "metadata": {},
   "outputs": [],
   "source": [
    "# confusion matrix\n",
    "preds = np.argmax(probs, axis=1)\n",
    "probs = probs[:,1]\n",
    "from sklearn.metrics import confusion_matrix\n",
    "cm = confusion_matrix(y, preds)\n",
    "\n",
    "plot_confusion_matrix(cm, data.classes)\n",
    "\n",
    "https://towardsdatascience.com/flower-classification-with-convolutional-neural-networks-b97130329e5f"
   ]
  }
 ],
 "metadata": {
  "kernelspec": {
   "display_name": "Python 3",
   "language": "python",
   "name": "python3"
  },
  "language_info": {
   "codemirror_mode": {
    "name": "ipython",
    "version": 3
   },
   "file_extension": ".py",
   "mimetype": "text/x-python",
   "name": "python",
   "nbconvert_exporter": "python",
   "pygments_lexer": "ipython3",
   "version": "3.6.0"
  }
 },
 "nbformat": 4,
 "nbformat_minor": 2
}
